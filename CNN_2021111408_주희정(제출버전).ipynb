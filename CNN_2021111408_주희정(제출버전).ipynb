{
  "nbformat": 4,
  "nbformat_minor": 0,
  "metadata": {
    "colab": {
      "provenance": [],
      "gpuType": "T4",
      "authorship_tag": "ABX9TyNzWmsHEvX23Zwzx8ceWwO4",
      "include_colab_link": true
    },
    "kernelspec": {
      "name": "python3",
      "display_name": "Python 3"
    },
    "language_info": {
      "name": "python"
    },
    "accelerator": "GPU"
  },
  "cells": [
    {
      "cell_type": "markdown",
      "metadata": {
        "id": "view-in-github",
        "colab_type": "text"
      },
      "source": [
        "<a href=\"https://colab.research.google.com/github/heejeongJ/DL_pt/blob/Convolutional-Neural-Network_CNN/CNN_2021111408_%EC%A3%BC%ED%9D%AC%EC%A0%95(%EC%A0%9C%EC%B6%9C%EB%B2%84%EC%A0%84).ipynb\" target=\"_parent\"><img src=\"https://colab.research.google.com/assets/colab-badge.svg\" alt=\"Open In Colab\"/></a>"
      ]
    },
    {
      "cell_type": "markdown",
      "source": [
        "# **사용할 라이브러리 설정**"
      ],
      "metadata": {
        "id": "vh9mk8PCE32Z"
      }
    },
    {
      "cell_type": "code",
      "execution_count": null,
      "metadata": {
        "colab": {
          "base_uri": "https://localhost:8080/"
        },
        "id": "du2cAs6QR3Xo",
        "outputId": "2888a52c-f872-4847-cba9-6e83c2ebe37f"
      },
      "outputs": [
        {
          "output_type": "stream",
          "name": "stdout",
          "text": [
            "2.1.0+cu118\n"
          ]
        }
      ],
      "source": [
        "import torch\n",
        "import torch.nn as nn\n",
        "import torch.optim as optim\n",
        "import torch.nn.init as init\n",
        "\n",
        "# 파이토치에서는 torchvision.datasets에 MNIST 등의 다양한 데이터를 사용하기 용이하게 정리해 놓음\n",
        "# 이를 사용하면 데이터를 따로 학습에 맞게 정리하거나 하지 않아도 바로 사용이 가능함\n",
        "import torchvision.datasets as dset\n",
        "\n",
        "# torchvision.transforms에서는 이미지 데이터를 자르거나 확대 및 다양하게 변형시키는 함수들이 구현되어 있음\n",
        "import torchvision.transforms as transforms\n",
        "# DataLoader는 전처리가 끝난 데이터들을 지정한 배치 크기에 맞게 모아서 전달해주는 역할을 함\n",
        "# 데이터를 불러온 다음에 전처리 수행하고 불러온 이미지를 네트워크에 한 번에 올려주기 위해 사용\n",
        "from torch.utils.data import DataLoader\n",
        "\n",
        "import numpy as np\n",
        "import matplotlib.pyplot as plt\n",
        "\n",
        "print(torch.__version__)"
      ]
    },
    {
      "cell_type": "markdown",
      "source": [
        "# **하이퍼파라미터 설정**"
      ],
      "metadata": {
        "id": "24QX0PlgFHcm"
      }
    },
    {
      "cell_type": "code",
      "source": [
        "batch_size = 256        # 배치 사이즈\n",
        "learning_rate = 0.0002  # 학습률\n",
        "num_epoch = 10"
      ],
      "metadata": {
        "id": "c_yT7IR9Si_2"
      },
      "execution_count": null,
      "outputs": []
    },
    {
      "cell_type": "markdown",
      "source": [
        "# **데이터셋 로딩 및 텐서 변환**"
      ],
      "metadata": {
        "id": "Z2pplCzvFQ8c"
      }
    },
    {
      "cell_type": "code",
      "source": [
        "# 첫번째 인자 root는 데이터를 저장할 위치, train은 학습용 데이터인지 테스트용 데이터인지의 여부를 의미함\n",
        "\n",
        "# MNIST 데이터는 숫자 손글씨 이미지와 이에 대한 정답 쌍으로 이루어져 있음\n",
        "# trainform은 이미지에 대한 변형,target_transform은 정답 라벨에 대한 변형을 의미함\n",
        "# trainform.ToTensor()는 PIL 이미지나 Numpy 배열을 토치 텐서로 바꿔줌\n",
        "mnist_train = dset.MNIST(root=\"../\", train=True, transform = transforms.ToTensor(), target_transform=None, download=True)\n",
        "mnist_test = dset.MNIST(root=\"../\", train=False, transform = transforms.ToTensor(), target_transform=None, download=True)"
      ],
      "metadata": {
        "id": "uS089f6tfIMF"
      },
      "execution_count": null,
      "outputs": []
    },
    {
      "cell_type": "markdown",
      "source": [
        "**데이터셋 체크**"
      ],
      "metadata": {
        "id": "vE_8UqWQND1k"
      }
    },
    {
      "cell_type": "code",
      "source": [
        "print(mnist_train.__getitem__(0)[0].size(), mnist_train.__len__())\n",
        "print(mnist_test.__getitem__(0)[0].size(), mnist_test.__len__())\n",
        "\n",
        "print(len(mnist_train), len(mnist_test))"
      ],
      "metadata": {
        "colab": {
          "base_uri": "https://localhost:8080/"
        },
        "id": "Gi-kAno1flbd",
        "outputId": "741d3757-0ebc-4c7b-980e-ed5b2c9275a9"
      },
      "execution_count": null,
      "outputs": [
        {
          "output_type": "stream",
          "name": "stdout",
          "text": [
            "torch.Size([1, 28, 28]) 60000\n",
            "torch.Size([1, 28, 28]) 10000\n",
            "60000 10000\n"
          ]
        }
      ]
    },
    {
      "cell_type": "markdown",
      "source": [
        "# **데이터 로더(DataLoader) 설정**"
      ],
      "metadata": {
        "id": "9ei2337CFi5l"
      }
    },
    {
      "cell_type": "code",
      "source": [
        "train_loader = DataLoader(mnist_train, batch_size = batch_size, shuffle = True, num_workers=2, drop_last=True)\n",
        "test_loader = DataLoader(mnist_test, batch_size = batch_size, shuffle = False, num_workers=2, drop_last=True)"
      ],
      "metadata": {
        "id": "CTs6Zkxgf_Yr"
      },
      "execution_count": null,
      "outputs": []
    },
    {
      "cell_type": "markdown",
      "source": [
        "# **CNN 모델**"
      ],
      "metadata": {
        "id": "X5a2Up6cNNLr"
      }
    },
    {
      "cell_type": "code",
      "source": [
        "class CNN(nn.Module):\n",
        "  def __init__(self):                              ## 초기화 메서드 (이 메서드 내에서 드롭아웃해야 하는 듯..?)\n",
        "    super(CNN, self).__init__()                                     # 상위 클래스(nn.Module)의 초기화 메서드 호출\n",
        "    self.layer = nn.Sequential(                                     # 신경망의 convolutional layer 부분 정의\n",
        "        nn.Conv2d(in_channels = 1, out_channels=32, kernel_size=3, padding=1), # 2D convolution layer (이미지에서 특징을 추출하는 데 사용됨), 패딩 적용해서 사이즈 변화되지 않도록 했음~!\n",
        "        nn.ReLU(),                                                  # 활성화 함수 (모델이 복잡한 패턴 학습할 수 있게 도움)\n",
        "        nn.MaxPool2d(kernel_size=2, stride=2),\n",
        "        nn.Conv2d(in_channels = 32, out_channels = 64, kernel_size=3, padding=1),\n",
        "        nn.ReLU(),\n",
        "        nn.MaxPool2d(kernel_size=2, stride=2)                       # Max Pooling layer (특징 맵의 크기를 줄이면서 중요한 정보는 보존하는 데 사용)\n",
        "    )\n",
        "    self.fc_layer = nn.Sequential(                                  # Fully connected layer 부분 정의\n",
        "        nn.Linear(64*7*7, 256),                                     # FC Layer 1      - 선형 레이어, 입력과 가중치를 곱하고 편향을 더해 출력을 생성\n",
        "        nn.ReLU(),\n",
        "        nn.Dropout(0.8),                                            # Dropout (dropout rate 0.8)\n",
        "        nn.Linear(256, 256),                                        # FC Layer 2\n",
        "        nn.ReLU(),\n",
        "        nn.Dropout(0.8),                                            # Dropout (dropout rate 0.8)\n",
        "        nn.Linear(256, 10)                                          # 얜 출력층 레이어~!\n",
        "    )\n",
        "\n",
        "  def forward(self,x):                                              # 순전파 메서드 (모델이 입력 데이터를 어떻게 처리할지 정의)\n",
        "    out = self.layer(x)\n",
        "    out= out.view(out.size(0), -1)                                   # 틀징 맵 평탄화(flatten). -1은 나머지 차원을 자동으로 계산하도록 함\n",
        "\n",
        "    out = self.fc_layer(out)                                        # 평탄화된 데이터를 전결합 레이어에 전달하여 최종 결과를 얻음\n",
        "    return out\n"
      ],
      "metadata": {
        "id": "fl1sPe_6gbbD"
      },
      "execution_count": null,
      "outputs": []
    },
    {
      "cell_type": "markdown",
      "source": [
        "# **GPU 사용 가능 여부 확인 및 설정(모델 학습 준비)**\n",
        "**- 손실 함수, 최적화 함수**"
      ],
      "metadata": {
        "id": "AbcnjrHPFs0Y"
      }
    },
    {
      "cell_type": "code",
      "source": [
        "device = torch.device(\"cuda:0\" if torch.cuda.is_available() else \"cpu\")\n",
        "print(device)\n",
        "\n",
        "model = CNN().to(device)\n",
        "\n",
        "loss_func = nn.CrossEntropyLoss()                                   # 손실 함수 정의 - CrossEntropy 적용\n",
        "\n",
        "optimizer_Adam = torch.optim.Adam(model.parameters(), lr=learning_rate)  # 옵티마이저 정의 - AdamOptimizer 사용\n",
        "# optimizer_SGD = torch.optim.SGD(model.parameters(), lr=learning_rate, momentum=0.9)     # 옵티마이저 정의 - SGDOptimizer 사용 , 모멘텀을 통해과거의 그라디언트가 현재의 업데이트에 영향 미치도록 함, 안정적 학습 가능하도록 설정\n",
        "# scheduler = optim.lr_scheduler.StepLR(optimizer_SGD, step_size=20, gamma=0.4)           # 학습률 스케줄러 설정"
      ],
      "metadata": {
        "colab": {
          "base_uri": "https://localhost:8080/"
        },
        "id": "L_GGQq63iAp1",
        "outputId": "7b6aca11-f473-44d5-c564-0ec96b6ad6a8"
      },
      "execution_count": null,
      "outputs": [
        {
          "output_type": "stream",
          "name": "stdout",
          "text": [
            "cuda:0\n"
          ]
        }
      ]
    },
    {
      "cell_type": "markdown",
      "source": [
        "# **모델 학습 with Adam**"
      ],
      "metadata": {
        "id": "MPsyxunRGHxb"
      }
    },
    {
      "cell_type": "code",
      "source": [
        "loss_arr_Adam = []\n",
        "for i in range(num_epoch):\n",
        "  for j, [image, label] in enumerate(train_loader) :\n",
        "    x=image.to(device)\n",
        "    y_=label.to(device)\n",
        "\n",
        "    optimizer_Adam.zero_grad()\n",
        "    output = model.forward(x)\n",
        "    loss = loss_func(output, y_)\n",
        "    loss.backward()\n",
        "    optimizer_Adam.step()\n",
        "\n",
        "    if j%1000 == 0:\n",
        "      print(loss)\n",
        "      loss_arr_Adam.append(loss.cpu().detach().numpy())"
      ],
      "metadata": {
        "colab": {
          "base_uri": "https://localhost:8080/"
        },
        "id": "4HDJQiaSif6w",
        "outputId": "4b694658-6643-4048-a8f0-a6569142025f"
      },
      "execution_count": null,
      "outputs": [
        {
          "output_type": "stream",
          "name": "stdout",
          "text": [
            "tensor(2.3063, device='cuda:0', grad_fn=<NllLossBackward0>)\n",
            "tensor(1.0055, device='cuda:0', grad_fn=<NllLossBackward0>)\n",
            "tensor(0.6507, device='cuda:0', grad_fn=<NllLossBackward0>)\n",
            "tensor(0.5749, device='cuda:0', grad_fn=<NllLossBackward0>)\n",
            "tensor(0.3731, device='cuda:0', grad_fn=<NllLossBackward0>)\n",
            "tensor(0.3004, device='cuda:0', grad_fn=<NllLossBackward0>)\n",
            "tensor(0.2801, device='cuda:0', grad_fn=<NllLossBackward0>)\n",
            "tensor(0.2369, device='cuda:0', grad_fn=<NllLossBackward0>)\n",
            "tensor(0.2478, device='cuda:0', grad_fn=<NllLossBackward0>)\n",
            "tensor(0.1986, device='cuda:0', grad_fn=<NllLossBackward0>)\n"
          ]
        }
      ]
    },
    {
      "cell_type": "markdown",
      "source": [
        "# **학습 결과 시각화_ 손실 변화 그래프 with Adam**"
      ],
      "metadata": {
        "id": "DHSSvjt_GLkX"
      }
    },
    {
      "cell_type": "code",
      "source": [
        "plt.plot(loss_arr_Adam)\n",
        "plt.show()"
      ],
      "metadata": {
        "colab": {
          "base_uri": "https://localhost:8080/",
          "height": 430
        },
        "id": "72JwXLSyp4o2",
        "outputId": "f71994a8-72a9-493b-bc2d-f28af1613ad2"
      },
      "execution_count": null,
      "outputs": [
        {
          "output_type": "display_data",
          "data": {
            "text/plain": [
              "<Figure size 640x480 with 1 Axes>"
            ],
            "image/png": "[encoded data removed]"
          },
          "metadata": {}
        }
      ]
    },
    {
      "cell_type": "markdown",
      "source": [
        "# **테스트 데이터셋을 통한 성능 평가**\n",
        "# **Adam 옵티마이저로 학습한 모델의 정확도 측정**"
      ],
      "metadata": {
        "id": "qMmiasUEsQtH"
      }
    },
    {
      "cell_type": "code",
      "source": [
        "# 정확도 계산 함수\n",
        "def calculate_accuracy(model, device, test_loader):\n",
        "    correct = 0\n",
        "    total = 0\n",
        "    with torch.no_grad():\n",
        "        for image, label in test_loader:\n",
        "            x = image.to(device)\n",
        "            y_ = label.to(device)\n",
        "            output = model(x)\n",
        "            _, predicted = torch.max(output, 1)\n",
        "            total += label.size(0)\n",
        "            correct += (predicted == y_).sum().item()\n",
        "    accuracy = 100 * correct / total\n",
        "    return accuracy\n",
        "\n",
        "\n",
        "# Adam 옵티마이저로 학습된 모델의 정확도 측정\n",
        "accuracy_adam = calculate_accuracy(model, device, test_loader)\n",
        "print(f\"Accuracy with Adam: {accuracy_adam}%\")\n"
      ],
      "metadata": {
        "colab": {
          "base_uri": "https://localhost:8080/"
        },
        "id": "AKkmm2kisHe1",
        "outputId": "147aadfd-df75-49e3-edab-8a1834b21e0d"
      },
      "execution_count": null,
      "outputs": [
        {
          "output_type": "stream",
          "name": "stdout",
          "text": [
            "Accuracy with Adam: 92.66826923076923%\n"
          ]
        }
      ]
    },
    {
      "cell_type": "markdown",
      "source": [
        "# **모델 학습 with SGD**"
      ],
      "metadata": {
        "id": "Xqpq_WTatEgF"
      }
    },
    {
      "cell_type": "code",
      "source": [
        "# 모델을 다시 초기화하고 SGD 옵티마이저로 학습하기 위함\n",
        "model = CNN().to(device)  # 모델을 재초기화\n",
        "\n",
        "# 학습률 조정\n",
        "learning_rate_sgd = 0.001  # 초기 학습률 설정\n",
        "optimizer_SGD = torch.optim.SGD(model.parameters(), lr=learning_rate_sgd, momentum=0.9)     # 옵티마이저 정의 - SGDOptimizer 사용 , 모멘텀을 통해과거의 그라디언트가 현재의 업데이트에 영향 미치도록 함, 안정적 학습 가능하도록 설정\n",
        "# 스케줄러 재설정 - 스텝 사이즈와 감마 값 조정\n",
        "scheduler = torch.optim.lr_scheduler.StepLR(optimizer_SGD, step_size=10, gamma=0.4)  # 스텝 사이즈와 감마 값을 조정\n",
        "\n",
        "loss_arr_SGD = []\n",
        "for i in range(num_epoch):\n",
        "  for j, [image, label] in enumerate(train_loader) :\n",
        "    x=image.to(device)\n",
        "    y_=label.to(device)\n",
        "\n",
        "    optimizer_SGD.zero_grad()\n",
        "    output = model.forward(x)\n",
        "    loss = loss_func(output, y_)\n",
        "    loss.backward()\n",
        "    optimizer_SGD.step()\n",
        "\n",
        "    if j%1000 == 0:\n",
        "      print(loss)\n",
        "      loss_arr_SGD.append(loss.cpu().detach().numpy())\n",
        "  scheduler.step()  # 에폭이 끝날 때마다 학습률을 갱신"
      ],
      "metadata": {
        "colab": {
          "base_uri": "https://localhost:8080/"
        },
        "outputId": "58a77f67-a6be-44ea-ce3b-298a714df1a9",
        "id": "WYPax0PhV0NY"
      },
      "execution_count": null,
      "outputs": [
        {
          "output_type": "stream",
          "name": "stdout",
          "text": [
            "tensor(2.3038, device='cuda:0', grad_fn=<NllLossBackward0>)\n",
            "tensor(2.2971, device='cuda:0', grad_fn=<NllLossBackward0>)\n",
            "tensor(2.2692, device='cuda:0', grad_fn=<NllLossBackward0>)\n",
            "tensor(2.1620, device='cuda:0', grad_fn=<NllLossBackward0>)\n",
            "tensor(1.8189, device='cuda:0', grad_fn=<NllLossBackward0>)\n",
            "tensor(1.4532, device='cuda:0', grad_fn=<NllLossBackward0>)\n",
            "tensor(1.3022, device='cuda:0', grad_fn=<NllLossBackward0>)\n",
            "tensor(1.0286, device='cuda:0', grad_fn=<NllLossBackward0>)\n",
            "tensor(0.8909, device='cuda:0', grad_fn=<NllLossBackward0>)\n",
            "tensor(0.7360, device='cuda:0', grad_fn=<NllLossBackward0>)\n"
          ]
        }
      ]
    },
    {
      "cell_type": "markdown",
      "source": [
        "# **학습 결과 시각화_ 손실 변화 그래프 with SGD**"
      ],
      "metadata": {
        "id": "Op16OuKmthiy"
      }
    },
    {
      "cell_type": "code",
      "source": [
        "plt.plot(loss_arr_SGD)\n",
        "plt.show()"
      ],
      "metadata": {
        "colab": {
          "base_uri": "https://localhost:8080/",
          "height": 430
        },
        "outputId": "397b55a7-4668-4356-cb96-d6c136577bc2",
        "id": "JAqkjgl8Z8gP"
      },
      "execution_count": null,
      "outputs": [
        {
          "output_type": "display_data",
          "data": {
            "text/plain": [
              "<Figure size 640x480 with 1 Axes>"
            ],
            "image/png": "[encoded data removed]"
          },
          "metadata": {}
        }
      ]
    },
    {
      "cell_type": "markdown",
      "source": [
        "# **테스트 데이터셋을 통한 성능 평가**\n",
        "# **SGD 옵티마이저 학습 모델의 정확도 측정**\n",
        " **테스트 데이터 정확도 측정 및 비교**"
      ],
      "metadata": {
        "id": "5R_Orr1EGR32"
      }
    },
    {
      "cell_type": "code",
      "source": [
        "# SGD 옵티마이저로 학습된 모델의 정확도 측정\n",
        "accuracy_sgd = calculate_accuracy(model, device, test_loader)\n",
        "print(f\"Accuracy with SGD: {accuracy_sgd}%\")\n",
        "\n",
        "# 정확도 비교\n",
        "if accuracy_adam > accuracy_sgd:\n",
        "    print(\"Adam optimizer performs better on this test data.\")\n",
        "else:\n",
        "    print(\"SGD optimizer performs better on this test data.\")"
      ],
      "metadata": {
        "colab": {
          "base_uri": "https://localhost:8080/"
        },
        "id": "JiM7Pjn3jPWq",
        "outputId": "979347f1-3f40-4a42-e50d-2a4ea1bd3af5"
      },
      "execution_count": null,
      "outputs": [
        {
          "output_type": "stream",
          "name": "stdout",
          "text": [
            "Accuracy with SGD: 76.90304487179488%\n",
            "Adam optimizer performs better on this test data.\n"
          ]
        }
      ]
    }
  ]
}